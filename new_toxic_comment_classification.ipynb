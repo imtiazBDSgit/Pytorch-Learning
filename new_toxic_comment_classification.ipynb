{
 "cells": [
  {
   "cell_type": "code",
   "execution_count": 39,
   "metadata": {},
   "outputs": [],
   "source": [
    "%reload_ext autoreload\n",
    "%autoreload 2\n",
    "%matplotlib inline"
   ]
  },
  {
   "cell_type": "code",
   "execution_count": 40,
   "metadata": {},
   "outputs": [],
   "source": [
    "import torchtext\n",
    "from torchtext import vocab, data\n",
    "from torchtext.datasets import language_modeling\n",
    "\n",
    "from fastai.rnn_reg import *\n",
    "from fastai.rnn_train import *\n",
    "from fastai.nlp import *\n",
    "from fastai.lm_rnn import *\n",
    "from fastai.structured import *\n",
    "from fastai import sgdr\n",
    "\n",
    "import spacy\n",
    "spacy_en = spacy.load('en')\n",
    "\n",
    "import dill as pickle\n",
    "\n",
    "# pandas and plotting config\n",
    "pd.set_option('display.max_rows', 1000)\n",
    "pd.set_option('display.max_columns', 1000)\n",
    "pd.set_option('display.max_colwidth', -1)"
   ]
  },
  {
   "cell_type": "code",
   "execution_count": 41,
   "metadata": {},
   "outputs": [],
   "source": [
    "PATH = 'data/toxic'"
   ]
  },
  {
   "cell_type": "code",
   "execution_count": 42,
   "metadata": {},
   "outputs": [],
   "source": [
    "raw_train_df = pd.read_csv(f'{PATH}/train.csv')\n",
    "test_df = pd.read_csv(f'{PATH}/test.csv')\n",
    "sample_subm_df = pd.read_csv(f'{PATH}/sample_submission.csv')"
   ]
  },
  {
   "cell_type": "code",
   "execution_count": 43,
   "metadata": {},
   "outputs": [
    {
     "name": "stdout",
     "output_type": "stream",
     "text": [
      "Train size: 159571 | Test size: 153164\n"
     ]
    },
    {
     "data": {
      "text/html": [
       "<div>\n",
       "<style scoped>\n",
       "    .dataframe tbody tr th:only-of-type {\n",
       "        vertical-align: middle;\n",
       "    }\n",
       "\n",
       "    .dataframe tbody tr th {\n",
       "        vertical-align: top;\n",
       "    }\n",
       "\n",
       "    .dataframe thead th {\n",
       "        text-align: right;\n",
       "    }\n",
       "</style>\n",
       "<table border=\"1\" class=\"dataframe\">\n",
       "  <thead>\n",
       "    <tr style=\"text-align: right;\">\n",
       "      <th></th>\n",
       "      <th>id</th>\n",
       "      <th>comment_text</th>\n",
       "      <th>toxic</th>\n",
       "      <th>severe_toxic</th>\n",
       "      <th>obscene</th>\n",
       "      <th>threat</th>\n",
       "      <th>insult</th>\n",
       "      <th>identity_hate</th>\n",
       "    </tr>\n",
       "  </thead>\n",
       "  <tbody>\n",
       "    <tr>\n",
       "      <th>0</th>\n",
       "      <td>0000997932d777bf</td>\n",
       "      <td>Explanation\\nWhy the edits made under my username Hardcore Metallica Fan were reverted? They weren't vandalisms, just closure on some GAs after I voted at New York Dolls FAC. And please don't remove the template from the talk page since I'm retired now.89.205.38.27</td>\n",
       "      <td>0</td>\n",
       "      <td>0</td>\n",
       "      <td>0</td>\n",
       "      <td>0</td>\n",
       "      <td>0</td>\n",
       "      <td>0</td>\n",
       "    </tr>\n",
       "    <tr>\n",
       "      <th>1</th>\n",
       "      <td>000103f0d9cfb60f</td>\n",
       "      <td>D'aww! He matches this background colour I'm seemingly stuck with. Thanks.  (talk) 21:51, January 11, 2016 (UTC)</td>\n",
       "      <td>0</td>\n",
       "      <td>0</td>\n",
       "      <td>0</td>\n",
       "      <td>0</td>\n",
       "      <td>0</td>\n",
       "      <td>0</td>\n",
       "    </tr>\n",
       "    <tr>\n",
       "      <th>2</th>\n",
       "      <td>000113f07ec002fd</td>\n",
       "      <td>Hey man, I'm really not trying to edit war. It's just that this guy is constantly removing relevant information and talking to me through edits instead of my talk page. He seems to care more about the formatting than the actual info.</td>\n",
       "      <td>0</td>\n",
       "      <td>0</td>\n",
       "      <td>0</td>\n",
       "      <td>0</td>\n",
       "      <td>0</td>\n",
       "      <td>0</td>\n",
       "    </tr>\n",
       "  </tbody>\n",
       "</table>\n",
       "</div>"
      ],
      "text/plain": [
       "                 id  \\\n",
       "0  0000997932d777bf   \n",
       "1  000103f0d9cfb60f   \n",
       "2  000113f07ec002fd   \n",
       "\n",
       "                                                                                                                                                                                                                                                                comment_text  \\\n",
       "0  Explanation\\nWhy the edits made under my username Hardcore Metallica Fan were reverted? They weren't vandalisms, just closure on some GAs after I voted at New York Dolls FAC. And please don't remove the template from the talk page since I'm retired now.89.205.38.27   \n",
       "1  D'aww! He matches this background colour I'm seemingly stuck with. Thanks.  (talk) 21:51, January 11, 2016 (UTC)                                                                                                                                                            \n",
       "2  Hey man, I'm really not trying to edit war. It's just that this guy is constantly removing relevant information and talking to me through edits instead of my talk page. He seems to care more about the formatting than the actual info.                                   \n",
       "\n",
       "   toxic  severe_toxic  obscene  threat  insult  identity_hate  \n",
       "0  0      0             0        0       0       0              \n",
       "1  0      0             0        0       0       0              \n",
       "2  0      0             0        0       0       0              "
      ]
     },
     "metadata": {},
     "output_type": "display_data"
    },
    {
     "data": {
      "text/html": [
       "<div>\n",
       "<style scoped>\n",
       "    .dataframe tbody tr th:only-of-type {\n",
       "        vertical-align: middle;\n",
       "    }\n",
       "\n",
       "    .dataframe tbody tr th {\n",
       "        vertical-align: top;\n",
       "    }\n",
       "\n",
       "    .dataframe thead th {\n",
       "        text-align: right;\n",
       "    }\n",
       "</style>\n",
       "<table border=\"1\" class=\"dataframe\">\n",
       "  <thead>\n",
       "    <tr style=\"text-align: right;\">\n",
       "      <th></th>\n",
       "      <th>id</th>\n",
       "      <th>comment_text</th>\n",
       "    </tr>\n",
       "  </thead>\n",
       "  <tbody>\n",
       "    <tr>\n",
       "      <th>0</th>\n",
       "      <td>00001cee341fdb12</td>\n",
       "      <td>Yo bitch Ja Rule is more succesful then you'll ever be whats up with you and hating you sad mofuckas...i should bitch slap ur pethedic white faces and get you to kiss my ass you guys sicken me. Ja rule is about pride in da music man. dont diss that shit on him. and nothin is wrong bein like tupac he was a brother too...fuckin white boys get things right next time.,</td>\n",
       "    </tr>\n",
       "    <tr>\n",
       "      <th>1</th>\n",
       "      <td>0000247867823ef7</td>\n",
       "      <td>== From RfC == \\n\\n The title is fine as it is, IMO.</td>\n",
       "    </tr>\n",
       "    <tr>\n",
       "      <th>2</th>\n",
       "      <td>00013b17ad220c46</td>\n",
       "      <td>\" \\n\\n == Sources == \\n\\n * Zawe Ashton on Lapland —  /  \"</td>\n",
       "    </tr>\n",
       "  </tbody>\n",
       "</table>\n",
       "</div>"
      ],
      "text/plain": [
       "                 id  \\\n",
       "0  00001cee341fdb12   \n",
       "1  0000247867823ef7   \n",
       "2  00013b17ad220c46   \n",
       "\n",
       "                                                                                                                                                                                                                                                                                                                                                                      comment_text  \n",
       "0  Yo bitch Ja Rule is more succesful then you'll ever be whats up with you and hating you sad mofuckas...i should bitch slap ur pethedic white faces and get you to kiss my ass you guys sicken me. Ja rule is about pride in da music man. dont diss that shit on him. and nothin is wrong bein like tupac he was a brother too...fuckin white boys get things right next time.,  \n",
       "1  == From RfC == \\n\\n The title is fine as it is, IMO.                                                                                                                                                                                                                                                                                                                             \n",
       "2  \" \\n\\n == Sources == \\n\\n * Zawe Ashton on Lapland —  /  \"                                                                                                                                                                                                                                                                                                                       "
      ]
     },
     "metadata": {},
     "output_type": "display_data"
    },
    {
     "data": {
      "text/html": [
       "<div>\n",
       "<style scoped>\n",
       "    .dataframe tbody tr th:only-of-type {\n",
       "        vertical-align: middle;\n",
       "    }\n",
       "\n",
       "    .dataframe tbody tr th {\n",
       "        vertical-align: top;\n",
       "    }\n",
       "\n",
       "    .dataframe thead th {\n",
       "        text-align: right;\n",
       "    }\n",
       "</style>\n",
       "<table border=\"1\" class=\"dataframe\">\n",
       "  <thead>\n",
       "    <tr style=\"text-align: right;\">\n",
       "      <th></th>\n",
       "      <th>id</th>\n",
       "      <th>toxic</th>\n",
       "      <th>severe_toxic</th>\n",
       "      <th>obscene</th>\n",
       "      <th>threat</th>\n",
       "      <th>insult</th>\n",
       "      <th>identity_hate</th>\n",
       "    </tr>\n",
       "  </thead>\n",
       "  <tbody>\n",
       "    <tr>\n",
       "      <th>0</th>\n",
       "      <td>00001cee341fdb12</td>\n",
       "      <td>0.5</td>\n",
       "      <td>0.5</td>\n",
       "      <td>0.5</td>\n",
       "      <td>0.5</td>\n",
       "      <td>0.5</td>\n",
       "      <td>0.5</td>\n",
       "    </tr>\n",
       "    <tr>\n",
       "      <th>1</th>\n",
       "      <td>0000247867823ef7</td>\n",
       "      <td>0.5</td>\n",
       "      <td>0.5</td>\n",
       "      <td>0.5</td>\n",
       "      <td>0.5</td>\n",
       "      <td>0.5</td>\n",
       "      <td>0.5</td>\n",
       "    </tr>\n",
       "    <tr>\n",
       "      <th>2</th>\n",
       "      <td>00013b17ad220c46</td>\n",
       "      <td>0.5</td>\n",
       "      <td>0.5</td>\n",
       "      <td>0.5</td>\n",
       "      <td>0.5</td>\n",
       "      <td>0.5</td>\n",
       "      <td>0.5</td>\n",
       "    </tr>\n",
       "  </tbody>\n",
       "</table>\n",
       "</div>"
      ],
      "text/plain": [
       "                 id  toxic  severe_toxic  obscene  threat  insult  \\\n",
       "0  00001cee341fdb12  0.5    0.5           0.5      0.5     0.5      \n",
       "1  0000247867823ef7  0.5    0.5           0.5      0.5     0.5      \n",
       "2  00013b17ad220c46  0.5    0.5           0.5      0.5     0.5      \n",
       "\n",
       "   identity_hate  \n",
       "0  0.5            \n",
       "1  0.5            \n",
       "2  0.5            "
      ]
     },
     "metadata": {},
     "output_type": "display_data"
    }
   ],
   "source": [
    "print(f'Train size: {len(raw_train_df)} | Test size: {len(test_df)}')\n",
    "display(raw_train_df.head(3))\n",
    "display(test_df.head(3))\n",
    "display(sample_subm_df.head(3))"
   ]
  },
  {
   "cell_type": "code",
   "execution_count": 44,
   "metadata": {},
   "outputs": [],
   "source": [
    "label_cols = ['toxic', 'severe_toxic', 'obscene', 'threat', 'insult', 'identity_hate']\n",
    "#raw_train_df['none'] = 1 - raw_train_df[label_cols].max(axis=1)"
   ]
  },
  {
   "cell_type": "code",
   "execution_count": 45,
   "metadata": {},
   "outputs": [],
   "source": [
    "class TextMultiLabelDataset(torchtext.data.Dataset):\n",
    "    def __init__(self, df, tt_text_field, tt_label_field, txt_col, lbl_cols, **kwargs):\n",
    "        # torchtext Field objects\n",
    "        fields = [('text', tt_text_field)]\n",
    "        for l in lbl_cols: fields.append((l, tt_label_field))\n",
    "            \n",
    "        is_test = False if lbl_cols[0] in df.columns else True\n",
    "        n_labels = len(lbl_cols)\n",
    "        \n",
    "        examples = []\n",
    "        for idx, row in df.iterrows():\n",
    "            if not is_test:\n",
    "                lbls = list(map(float,[ row[l] for l in lbl_cols ]))\n",
    "            else:\n",
    "                lbls = [0.0] * n_labels\n",
    "                \n",
    "            txt = str(row[txt_col])\n",
    "            examples.append(data.Example.fromlist([txt]+lbls, fields))\n",
    "                            \n",
    "        super().__init__(examples, fields, **kwargs)\n",
    "\n",
    "    @staticmethod\n",
    "    def sort_key(example): \n",
    "        return len(example.text)\n",
    "    \n",
    "    @classmethod\n",
    "    def splits(cls, text_field, label_field, train_df, txt_col, lbl_cols, val_df=None, test_df=None, **kwargs):\n",
    "        # build train, val, and test data\n",
    "        train_data, val_data, test_data = (None, None, None)\n",
    "        \n",
    "        if train_df is not None: \n",
    "            train_data = cls(train_df.copy(), text_field, label_field, txt_col, lbl_cols, **kwargs)\n",
    "        if val_df is not None: \n",
    "            val_data = cls(val_df.copy(), text_field, label_field, txt_col, lbl_cols, **kwargs)\n",
    "        if test_df is not None: \n",
    "            test_data = cls(test_df.copy(), text_field, label_field, txt_col, lbl_cols, **kwargs)\n",
    "\n",
    "        return tuple(d for d in (train_data, val_data, test_data) if d is not None)"
   ]
  },
  {
   "cell_type": "code",
   "execution_count": 46,
   "metadata": {},
   "outputs": [],
   "source": [
    "class TextMultiLabelDataLoader():\n",
    "    def __init__(self, src, x_fld, y_flds, y_dtype='torch.cuda.FloatTensor'):\n",
    "        self.src, self.x_fld, self.y_flds = src, x_fld, y_flds\n",
    "        self.y_dtype = y_dtype\n",
    "\n",
    "    def __len__(self): return len(self.src)#-1\n",
    "\n",
    "    def __iter__(self):\n",
    "        it = iter(self.src)\n",
    "        for i in range(len(self)):\n",
    "            b = next(it)\n",
    "            \n",
    "            if (len(self.y_flds) > 1):\n",
    "                targ = [ getattr(b, y) for y in self.y_flds ] \n",
    "                targ = torch.stack(targ, dim=1).type(self.y_dtype)\n",
    "            else: \n",
    "                targ = getattr(b, self.y_flds[0])\n",
    "                targ = targ.type(self.y_dtype)\n",
    "\n",
    "            yield getattr(b, self.x_fld), targ\n",
    "\n",
    "class TextMultiLabelData(ModelData):\n",
    "\n",
    "    @classmethod\n",
    "    def from_splits(cls, path, splits, bs, text_name='text', label_names=['label'], \n",
    "                    target_dtype='torch.cuda.FloatTensor'):\n",
    "        \n",
    "        text_fld = splits[0].fields[text_name]\n",
    "        \n",
    "        label_flds = []\n",
    "        if (len(label_names) == 1): \n",
    "            label_fld = splits[0].fields[label_names[0]]\n",
    "            label_flds.append(label_fld)\n",
    "            if (label_fld.use_vocab): \n",
    "                label_fld.build_vocab(splits[0])\n",
    "                target_dtype = 'torch.cuda.FloatTensor'\n",
    "        else:\n",
    "            for n in label_names:\n",
    "                label_fld = splits[0].fields[n]\n",
    "                label_flds.append(label_fld)\n",
    "\n",
    "        iters = torchtext.data.BucketIterator.splits(splits, batch_size=bs)\n",
    "        trn_iter,val_iter,test_iter = iters[0],iters[1],None\n",
    "        test_dl = None\n",
    "        if len(iters) == 3:\n",
    "            test_iter = iters[2]\n",
    "            test_dl = TextMultiLabelDataLoader(test_iter, text_name, label_names, target_dtype)\n",
    "        trn_dl = TextMultiLabelDataLoader(trn_iter, text_name, label_names, target_dtype)\n",
    "        val_dl = TextMultiLabelDataLoader(val_iter, text_name, label_names, target_dtype)\n",
    "\n",
    "        obj = cls.from_dls(path, trn_dl, val_dl, test_dl)\n",
    "        obj.bs = bs\n",
    "        obj.pad_idx = text_fld.vocab.stoi[text_fld.pad_token]\n",
    "        obj.nt = len(text_fld.vocab)\n",
    "\n",
    "        # if multiple labels, assume the # of classes = the # of labels \n",
    "        if (len(label_names) > 1):\n",
    "            c = len(label_names)\n",
    "        # if label has a vocab, assume the vocab represents the # of classes\n",
    "        elif (hasattr(label_flds[0], 'vocab')): \n",
    "            c = len(label_flds[0].vocab)\n",
    "        else:\n",
    "            c = 1\n",
    "            \n",
    "        obj.c = c\n",
    "\n",
    "        return obj"
   ]
  },
  {
   "cell_type": "code",
   "execution_count": 47,
   "metadata": {},
   "outputs": [],
   "source": [
    "import re, string\n",
    "re_tok = re.compile(f'([{string.punctuation}“”¨«»®´·º½¾¿¡§£₤‘’])')\n",
    "def tokenizer(s): return re_tok.sub(r' \\1 ', s).split()"
   ]
  },
  {
   "cell_type": "code",
   "execution_count": 90,
   "metadata": {},
   "outputs": [],
   "source": [
    "bsz = 32 #16 #32 #64\n",
    "\n",
    "max_tokens = 20000 # max number of words based on frequency\n",
    "max_len = None #100      # max length of each comment to look at\n",
    "\n",
    "n_hidden = 256\n",
    "n_fac = 128"
   ]
  },
  {
   "cell_type": "code",
   "execution_count": 91,
   "metadata": {},
   "outputs": [],
   "source": [
    "class LstmClassifier(nn.Module):\n",
    "    def __init__(self, vocab_size, n_fac, bsz, \n",
    "                 fc_szs=[], fc_drops=[], n_lstm_hidden=256, n_lstm_layers=1, out_sz=1,\n",
    "                 lstm_drop=0.5, is_multi=False, y_range=None, use_bn=False):\n",
    "        \n",
    "        super().__init__()\n",
    "        \n",
    "        self.vocab_size, self.out_sz = vocab_size, out_sz\n",
    "        self.n_lstm_layers, self.n_lstm_hidden = n_lstm_layers, n_lstm_hidden\n",
    "        \n",
    "        self.is_multi = is_multi\n",
    "        self.y_range = y_range\n",
    "        self.use_bn = use_bn\n",
    "        \n",
    "        self.e = nn.Embedding(vocab_size, n_fac)\n",
    "        self.e.weight.data.uniform_(-0.1, 0.1)\n",
    "        \n",
    "        self.rnn = nn.LSTM(n_fac, n_lstm_hidden, n_lstm_layers, dropout=lstm_drop)\n",
    "        \n",
    "        fc_szs = [n_lstm_hidden] + fc_szs\n",
    "        \n",
    "        self.linears, self.linear_drops, self.linear_bns = [], [], []\n",
    "        if (len(fc_szs) > 1):\n",
    "            self.linears = nn.ModuleList(\n",
    "                [ nn.Linear(fc_szs[idx], sz) for idx, sz in enumerate(fc_szs[1:]) ]\n",
    "            )\n",
    "            \n",
    "            self.linear_bns = nn.ModuleList(\n",
    "                [ nn.BatchNorm1d(sz) for sz in fc_szs[1:] ]\n",
    "            )\n",
    "            \n",
    "            for l in self.linears: kaiming_normal(l.weight.data)\n",
    "                \n",
    "        if (len(fc_drops) > 0):\n",
    "            self.linear_drops = nn.ModuleList([ nn.Dropout(d) for d in fc_drops ])\n",
    "                \n",
    "        self.outp = nn.Linear(fc_szs[-1], out_sz)\n",
    "        kaiming_normal(self.outp.weight.data)\n",
    "            \n",
    "        self.h = self.init_hidden(bsz)\n",
    "        \n",
    "    def forward(self, words):\n",
    "        bsz = words[0].size(0)\n",
    "        if (self.h[0].size(1) != bsz): self.h = self.init_hidden(bsz)\n",
    "            \n",
    "        x, h = self.rnn(self.e(words), self.h)\n",
    "        self.h = repackage_var(h)\n",
    "        \n",
    "        x = x[-1]\n",
    "        \n",
    "        for l, d, b in zip(self.linears, self.linear_drops, self.linear_bns):\n",
    "            x = F.relu(l(x))\n",
    "            if (self.use_bn): x = b(x)\n",
    "            x = d(x)\n",
    "        \n",
    "        x = self.outp(x)\n",
    "\n",
    "        if (self.is_multi):\n",
    "            return F.sigmoid(x)\n",
    "        \n",
    "        if (not self.is_multi and self.out_sz > 1):\n",
    "            return F.log_softmax(x)\n",
    "        \n",
    "        if (self.y_range):\n",
    "            x = F.sigmoid(x)\n",
    "            x = x * (self.y_range[1] - self.y_range[0])\n",
    "            x = x + self.y_range[0]\n",
    "            \n",
    "        return x\n",
    "    \n",
    "    def init_hidden(self, bsz):\n",
    "        return(V(torch.zeros(self.n_lstm_layers, bsz, self.n_lstm_hidden)), \n",
    "               V(torch.zeros(self.n_lstm_layers, bsz, self.n_lstm_hidden)))"
   ]
  },
  {
   "cell_type": "code",
   "execution_count": 93,
   "metadata": {},
   "outputs": [
    {
     "data": {
      "text/plain": [
       "(127657, 31914, 153164)"
      ]
     },
     "execution_count": 93,
     "metadata": {},
     "output_type": "execute_result"
    }
   ],
   "source": [
    "\n",
    "\n",
    "txt_col = 'comment_text'\n",
    "val_idxs = get_cv_idxs(len(raw_train_df), val_pct=0.2)\n",
    "\n",
    "train_df =  raw_train_df.drop(val_idxs)\n",
    "val_df = raw_train_df.copy().iloc[val_idxs]\n",
    "\n",
    "len(train_df), len(val_df), len(test_df)\n",
    "\n"
   ]
  },
  {
   "cell_type": "code",
   "execution_count": 94,
   "metadata": {},
   "outputs": [
    {
     "data": {
      "text/plain": [
       "id               object \n",
       "comment_text     object \n",
       "toxic            float32\n",
       "severe_toxic     float32\n",
       "obscene          float32\n",
       "threat           float32\n",
       "insult           float32\n",
       "identity_hate    float32\n",
       "dtype: object"
      ]
     },
     "execution_count": 94,
     "metadata": {},
     "output_type": "execute_result"
    }
   ],
   "source": [
    "train_df[label_cols] = train_df[label_cols].astype(np.float32)\n",
    "val_df[label_cols] = val_df[label_cols].astype(np.float32)\n",
    "\n",
    "train_df.dtypes"
   ]
  },
  {
   "cell_type": "code",
   "execution_count": 95,
   "metadata": {},
   "outputs": [
    {
     "data": {
      "text/plain": [
       "id               object \n",
       "comment_text     object \n",
       "toxic            float32\n",
       "severe_toxic     float32\n",
       "obscene          float32\n",
       "threat           float32\n",
       "insult           float32\n",
       "identity_hate    float32\n",
       "dtype: object"
      ]
     },
     "execution_count": 95,
     "metadata": {},
     "output_type": "execute_result"
    }
   ],
   "source": [
    "val_df.dtypes"
   ]
  },
  {
   "cell_type": "code",
   "execution_count": 96,
   "metadata": {},
   "outputs": [],
   "source": [
    "tt_TEXT = data.Field(sequential=True, tokenize=tokenizer, fix_length=max_len)\n",
    "tt_LABEL = data.Field(sequential=False, use_vocab=False,tensor_type=torch.cuda.FloatTensor)"
   ]
  },
  {
   "cell_type": "code",
   "execution_count": 97,
   "metadata": {},
   "outputs": [],
   "source": [
    "\n",
    "splits = TextMultiLabelDataset.splits(tt_TEXT, tt_LABEL, train_df, \n",
    "                                      'comment_text', label_cols, val_df, test_df)"
   ]
  },
  {
   "cell_type": "code",
   "execution_count": 98,
   "metadata": {},
   "outputs": [
    {
     "data": {
      "text/plain": [
       "(0.0,\n",
       " 0.0,\n",
       " \"D ' aww ! He matches this background colour I ' m seemingly stuck with . Thanks . ( talk ) 21 : 51 , January 11 , 2016 ( UTC )\")"
      ]
     },
     "execution_count": 98,
     "metadata": {},
     "output_type": "execute_result"
    }
   ],
   "source": [
    "t = splits[0].examples[0]\n",
    "t.toxic, t.insult, ' '.join(t.text)"
   ]
  },
  {
   "cell_type": "code",
   "execution_count": 99,
   "metadata": {},
   "outputs": [],
   "source": [
    "tt_TEXT.build_vocab(splits[0])"
   ]
  },
  {
   "cell_type": "code",
   "execution_count": 100,
   "metadata": {},
   "outputs": [
    {
     "data": {
      "text/plain": [
       "(3990, 204998, 6)"
      ]
     },
     "execution_count": 100,
     "metadata": {},
     "output_type": "execute_result"
    }
   ],
   "source": [
    "md = TextMultiLabelData.from_splits(PATH, splits, bsz, text_name='text', label_names=label_cols)\n",
    "# md = TextMultiLabelData.from_splits(PATH, splits, bsz, text_name='text', label_names=label_cols)\n",
    "\n",
    "len(md.trn_dl), md.nt, md.c"
   ]
  },
  {
   "cell_type": "code",
   "execution_count": 101,
   "metadata": {},
   "outputs": [
    {
     "name": "stdout",
     "output_type": "stream",
     "text": [
      "1\n",
      "['<unk>', '<pad>', '.', ',', 'the', '\"', 'to', 'I', 'of', \"'\"]\n"
     ]
    }
   ],
   "source": [
    "print(tt_TEXT.vocab.stoi[tt_TEXT.pad_token])\n",
    "print(tt_TEXT.vocab.itos[:10])"
   ]
  },
  {
   "cell_type": "code",
   "execution_count": 102,
   "metadata": {},
   "outputs": [
    {
     "name": "stdout",
     "output_type": "stream",
     "text": [
      "most common words: \n"
     ]
    },
    {
     "data": {
      "text/plain": [
       "[('.', 545820),\n",
       " (',', 380544),\n",
       " ('the', 360798),\n",
       " ('\"', 315858),\n",
       " ('to', 234613),\n",
       " ('I', 180612),\n",
       " ('of', 177584),\n",
       " (\"'\", 176148),\n",
       " ('and', 170990),\n",
       " ('a', 163203)]"
      ]
     },
     "execution_count": 102,
     "metadata": {},
     "output_type": "execute_result"
    }
   ],
   "source": [
    "print('most common words: ')\n",
    "tt_TEXT.vocab.freqs.most_common(10)"
   ]
  },
  {
   "cell_type": "code",
   "execution_count": 103,
   "metadata": {},
   "outputs": [
    {
     "name": "stdout",
     "output_type": "stream",
     "text": [
      "least common words: \n"
     ]
    },
    {
     "data": {
      "text/plain": [
       "[('Timoshenko', 1),\n",
       " ('amblocked', 1),\n",
       " ('2K15', 1),\n",
       " ('gratest', 1),\n",
       " ('Gag01001', 1),\n",
       " ('Aberration', 1),\n",
       " ('automakers', 1),\n",
       " ('Boastful', 1),\n",
       " ('Superlatives', 1),\n",
       " ('Classifying', 1)]"
      ]
     },
     "execution_count": 103,
     "metadata": {},
     "output_type": "execute_result"
    }
   ],
   "source": [
    "print('least common words: ')\n",
    "tt_TEXT.vocab.freqs.most_common()[-10:]"
   ]
  },
  {
   "cell_type": "code",
   "execution_count": 104,
   "metadata": {},
   "outputs": [],
   "source": [
    "m = LstmClassifier(md.nt, n_fac, bsz, [512, 256], [0.1, 0.1],\n",
    "                   n_hidden, n_lstm_layers=1, out_sz=md.c, is_multi=True, use_bn=False).cuda()\n",
    "\n",
    "lo = LayerOptimizer(optim.Adam, m, 1e-3, 1e-4)"
   ]
  },
  {
   "cell_type": "code",
   "execution_count": 112,
   "metadata": {},
   "outputs": [
    {
     "data": {
      "application/vnd.jupyter.widget-view+json": {
       "model_id": "d4bc2c64604f4b79942b2491d86e7ff1",
       "version_major": 2,
       "version_minor": 0
      },
      "text/html": [
       "<p>Failed to display Jupyter Widget of type <code>HBox</code>.</p>\n",
       "<p>\n",
       "  If you're reading this message in the Jupyter Notebook or JupyterLab Notebook, it may mean\n",
       "  that the widgets JavaScript is still loading. If this message persists, it\n",
       "  likely means that the widgets JavaScript library is either not installed or\n",
       "  not enabled. See the <a href=\"https://ipywidgets.readthedocs.io/en/stable/user_install.html\">Jupyter\n",
       "  Widgets Documentation</a> for setup instructions.\n",
       "</p>\n",
       "<p>\n",
       "  If you're reading this message in another frontend (for example, a static\n",
       "  rendering on GitHub or <a href=\"https://nbviewer.jupyter.org/\">NBViewer</a>),\n",
       "  it may mean that your frontend doesn't currently support widgets.\n",
       "</p>\n"
      ],
      "text/plain": [
       "HBox(children=(IntProgress(value=0, description='Epoch', max=1), HTML(value='')))"
      ]
     },
     "metadata": {},
     "output_type": "display_data"
    },
    {
     "name": "stdout",
     "output_type": "stream",
     "text": [
      "epoch:   0, train_loss: 0.693232, val_loss: 0.691652           \n",
      "\n"
     ]
    }
   ],
   "source": [
    "fit(m, md, 1, lo.opt, F.binary_cross_entropy_with_logits) "
   ]
  },
  {
   "cell_type": "code",
   "execution_count": 109,
   "metadata": {},
   "outputs": [],
   "source": [
    "predstest = predict(m, md.test_dl)\n"
   ]
  },
  {
   "cell_type": "code",
   "execution_count": 110,
   "metadata": {},
   "outputs": [
    {
     "data": {
      "text/plain": [
       "array([[0.21456, 0.05024, 0.16414, 0.04271, 0.1032 , 0.04697],\n",
       "       [0.16591, 0.04566, 0.12862, 0.03937, 0.08501, 0.04313],\n",
       "       [0.1685 , 0.04593, 0.13051, 0.03957, 0.086  , 0.04336],\n",
       "       [0.1685 , 0.04593, 0.13051, 0.03957, 0.086  , 0.04336],\n",
       "       [0.16535, 0.04561, 0.12821, 0.03934, 0.0848 , 0.04309],\n",
       "       [0.1685 , 0.04593, 0.13051, 0.03957, 0.086  , 0.04336]], dtype=float32)"
      ]
     },
     "execution_count": 110,
     "metadata": {},
     "output_type": "execute_result"
    }
   ],
   "source": [
    "predstest[:6,:]"
   ]
  },
  {
   "cell_type": "code",
   "execution_count": 87,
   "metadata": {},
   "outputs": [],
   "source": [
    "subm_df = pd.DataFrame(data=predstest, columns=label_cols)\n",
    "subm_df.insert(0, 'id', test_df.id)"
   ]
  },
  {
   "cell_type": "code",
   "execution_count": 113,
   "metadata": {},
   "outputs": [
    {
     "data": {
      "application/vnd.jupyter.widget-view+json": {
       "model_id": "01a0f0aeab71415a8264f74fe572defc",
       "version_major": 2,
       "version_minor": 0
      },
      "text/html": [
       "<p>Failed to display Jupyter Widget of type <code>HBox</code>.</p>\n",
       "<p>\n",
       "  If you're reading this message in the Jupyter Notebook or JupyterLab Notebook, it may mean\n",
       "  that the widgets JavaScript is still loading. If this message persists, it\n",
       "  likely means that the widgets JavaScript library is either not installed or\n",
       "  not enabled. See the <a href=\"https://ipywidgets.readthedocs.io/en/stable/user_install.html\">Jupyter\n",
       "  Widgets Documentation</a> for setup instructions.\n",
       "</p>\n",
       "<p>\n",
       "  If you're reading this message in another frontend (for example, a static\n",
       "  rendering on GitHub or <a href=\"https://nbviewer.jupyter.org/\">NBViewer</a>),\n",
       "  it may mean that your frontend doesn't currently support widgets.\n",
       "</p>\n"
      ],
      "text/plain": [
       "HBox(children=(IntProgress(value=0, description='Epoch', max=15), HTML(value='')))"
      ]
     },
     "metadata": {},
     "output_type": "display_data"
    },
    {
     "name": "stdout",
     "output_type": "stream",
     "text": [
      "epoch:   0, train_loss: 0.693168, val_loss: 0.693163           \n",
      "epoch:   1, train_loss: 0.694071, val_loss: 0.693147           \n",
      "epoch:   2, train_loss: 0.693166, val_loss: 0.693793           \n",
      "epoch:   3, train_loss: 0.693953, val_loss: 0.693147           \n",
      "epoch:   4, train_loss: 0.694330, val_loss: 0.693147           \n",
      "epoch:   5, train_loss: 0.693323, val_loss: 0.693147           \n",
      "epoch:   6, train_loss: 0.693168, val_loss: 0.693166           \n",
      "epoch:   7, train_loss: 0.693167, val_loss: 0.693164           \n",
      "epoch:   8, train_loss: 0.694215, val_loss: 0.693147           \n",
      "epoch:   9, train_loss: 0.693457, val_loss: 0.693147           \n",
      "epoch:  10, train_loss: 0.693169, val_loss: 0.693166           \n",
      "epoch:  11, train_loss: 0.693167, val_loss: 0.693163           \n",
      "epoch:  12, train_loss: 0.693196, val_loss: 0.693147           \n",
      "epoch:  13, train_loss: 0.693420, val_loss: 0.693147           \n",
      "epoch:  14, train_loss: 0.694372, val_loss: 0.693165           \n",
      "\n"
     ]
    }
   ],
   "source": [
    "on_end = lambda sched, cycle: save_model(m, f'{PATH}/models/multi-label-cyc_{cycle}-of-4')\n",
    "cb = [CosAnneal(lo, len(md.trn_dl), cycle_mult=2, on_cycle_end=on_end)]\n",
    "\n",
    "fit(m, md, 2**4-1, lo.opt, F.binary_cross_entropy_with_logits, callbacks=cb)"
   ]
  },
  {
   "cell_type": "code",
   "execution_count": null,
   "metadata": {},
   "outputs": [],
   "source": [
    "on_end = lambda sched, cycle: save_model(m, f'{PATH}/models/multi-label-2-cyc_{cycle}-of-1')\n",
    "cb = [CosAnneal(lo, len(md.trn_dl) * 10, on_cycle_end=on_end)]\n",
    "\n",
    "fit(m, md, 10, lo.opt, F.binary_cross_entropy, callbacks=cb)"
   ]
  },
  {
   "cell_type": "code",
   "execution_count": null,
   "metadata": {},
   "outputs": [],
   "source": [
    "load_model(m, f'{PATH}/models/multi-label-2-cyc_0-of-1')"
   ]
  },
  {
   "cell_type": "code",
   "execution_count": null,
   "metadata": {},
   "outputs": [],
   "source": [
    "preds = predict(m, md.test_dl)\n",
    "len(preds), len(test_df), len(train_df), len(val_df)"
   ]
  },
  {
   "cell_type": "code",
   "execution_count": null,
   "metadata": {},
   "outputs": [],
   "source": [
    "#subm_df = pd.DataFrame(data=preds, columns=label_cols) # -- if \"none\" included\n",
    "subm_df = pd.DataFrame(data=preds[:,:6], columns=label_cols) # -- if \"none\" included\n",
    "\n"
   ]
  },
  {
   "cell_type": "code",
   "execution_count": null,
   "metadata": {},
   "outputs": [],
   "source": [
    "len(preds), len(test_df)"
   ]
  },
  {
   "cell_type": "code",
   "execution_count": 89,
   "metadata": {},
   "outputs": [],
   "source": [
    "subm_df.to_csv(f'{PATH}/toxic_submission2.csv', index=None)"
   ]
  },
  {
   "cell_type": "code",
   "execution_count": 79,
   "metadata": {},
   "outputs": [
    {
     "data": {
      "text/html": [
       "<div>\n",
       "<style scoped>\n",
       "    .dataframe tbody tr th:only-of-type {\n",
       "        vertical-align: middle;\n",
       "    }\n",
       "\n",
       "    .dataframe tbody tr th {\n",
       "        vertical-align: top;\n",
       "    }\n",
       "\n",
       "    .dataframe thead th {\n",
       "        text-align: right;\n",
       "    }\n",
       "</style>\n",
       "<table border=\"1\" class=\"dataframe\">\n",
       "  <thead>\n",
       "    <tr style=\"text-align: right;\">\n",
       "      <th></th>\n",
       "      <th>id</th>\n",
       "      <th>toxic</th>\n",
       "      <th>severe_toxic</th>\n",
       "      <th>obscene</th>\n",
       "      <th>threat</th>\n",
       "      <th>insult</th>\n",
       "      <th>identity_hate</th>\n",
       "    </tr>\n",
       "  </thead>\n",
       "  <tbody>\n",
       "    <tr>\n",
       "      <th>0</th>\n",
       "      <td>00001cee341fdb12</td>\n",
       "      <td>0.140499</td>\n",
       "      <td>0.010649</td>\n",
       "      <td>0.084255</td>\n",
       "      <td>0.013067</td>\n",
       "      <td>0.065696</td>\n",
       "      <td>0.019294</td>\n",
       "    </tr>\n",
       "    <tr>\n",
       "      <th>1</th>\n",
       "      <td>0000247867823ef7</td>\n",
       "      <td>0.093443</td>\n",
       "      <td>0.005213</td>\n",
       "      <td>0.052726</td>\n",
       "      <td>0.006935</td>\n",
       "      <td>0.040252</td>\n",
       "      <td>0.011026</td>\n",
       "    </tr>\n",
       "    <tr>\n",
       "      <th>2</th>\n",
       "      <td>00013b17ad220c46</td>\n",
       "      <td>0.140499</td>\n",
       "      <td>0.010649</td>\n",
       "      <td>0.084255</td>\n",
       "      <td>0.013067</td>\n",
       "      <td>0.065696</td>\n",
       "      <td>0.019294</td>\n",
       "    </tr>\n",
       "    <tr>\n",
       "      <th>3</th>\n",
       "      <td>00017563c3f7919a</td>\n",
       "      <td>0.282951</td>\n",
       "      <td>0.033744</td>\n",
       "      <td>0.183968</td>\n",
       "      <td>0.033563</td>\n",
       "      <td>0.148715</td>\n",
       "      <td>0.045684</td>\n",
       "    </tr>\n",
       "    <tr>\n",
       "      <th>4</th>\n",
       "      <td>00017695ad8997eb</td>\n",
       "      <td>0.140499</td>\n",
       "      <td>0.010649</td>\n",
       "      <td>0.084255</td>\n",
       "      <td>0.013067</td>\n",
       "      <td>0.065696</td>\n",
       "      <td>0.019294</td>\n",
       "    </tr>\n",
       "    <tr>\n",
       "      <th>5</th>\n",
       "      <td>0001ea8717f6de06</td>\n",
       "      <td>0.106706</td>\n",
       "      <td>0.006539</td>\n",
       "      <td>0.061060</td>\n",
       "      <td>0.008538</td>\n",
       "      <td>0.047030</td>\n",
       "      <td>0.013383</td>\n",
       "    </tr>\n",
       "    <tr>\n",
       "      <th>6</th>\n",
       "      <td>00024115d4cbde0f</td>\n",
       "      <td>0.140499</td>\n",
       "      <td>0.010649</td>\n",
       "      <td>0.084255</td>\n",
       "      <td>0.013067</td>\n",
       "      <td>0.065696</td>\n",
       "      <td>0.019294</td>\n",
       "    </tr>\n",
       "    <tr>\n",
       "      <th>7</th>\n",
       "      <td>000247e83dcc1211</td>\n",
       "      <td>0.114128</td>\n",
       "      <td>0.007326</td>\n",
       "      <td>0.065793</td>\n",
       "      <td>0.009434</td>\n",
       "      <td>0.050913</td>\n",
       "      <td>0.014630</td>\n",
       "    </tr>\n",
       "    <tr>\n",
       "      <th>8</th>\n",
       "      <td>00025358d4737918</td>\n",
       "      <td>0.253572</td>\n",
       "      <td>0.026371</td>\n",
       "      <td>0.160273</td>\n",
       "      <td>0.027289</td>\n",
       "      <td>0.128577</td>\n",
       "      <td>0.037742</td>\n",
       "    </tr>\n",
       "    <tr>\n",
       "      <th>9</th>\n",
       "      <td>00026d1092fe71cc</td>\n",
       "      <td>0.090045</td>\n",
       "      <td>0.004670</td>\n",
       "      <td>0.049980</td>\n",
       "      <td>0.006279</td>\n",
       "      <td>0.038038</td>\n",
       "      <td>0.010096</td>\n",
       "    </tr>\n",
       "  </tbody>\n",
       "</table>\n",
       "</div>"
      ],
      "text/plain": [
       "                 id     toxic  severe_toxic   obscene    threat    insult  \\\n",
       "0  00001cee341fdb12  0.140499  0.010649      0.084255  0.013067  0.065696   \n",
       "1  0000247867823ef7  0.093443  0.005213      0.052726  0.006935  0.040252   \n",
       "2  00013b17ad220c46  0.140499  0.010649      0.084255  0.013067  0.065696   \n",
       "3  00017563c3f7919a  0.282951  0.033744      0.183968  0.033563  0.148715   \n",
       "4  00017695ad8997eb  0.140499  0.010649      0.084255  0.013067  0.065696   \n",
       "5  0001ea8717f6de06  0.106706  0.006539      0.061060  0.008538  0.047030   \n",
       "6  00024115d4cbde0f  0.140499  0.010649      0.084255  0.013067  0.065696   \n",
       "7  000247e83dcc1211  0.114128  0.007326      0.065793  0.009434  0.050913   \n",
       "8  00025358d4737918  0.253572  0.026371      0.160273  0.027289  0.128577   \n",
       "9  00026d1092fe71cc  0.090045  0.004670      0.049980  0.006279  0.038038   \n",
       "\n",
       "   identity_hate  \n",
       "0  0.019294       \n",
       "1  0.011026       \n",
       "2  0.019294       \n",
       "3  0.045684       \n",
       "4  0.019294       \n",
       "5  0.013383       \n",
       "6  0.019294       \n",
       "7  0.014630       \n",
       "8  0.037742       \n",
       "9  0.010096       "
      ]
     },
     "execution_count": 79,
     "metadata": {},
     "output_type": "execute_result"
    }
   ],
   "source": [
    "subm_df.head(10)"
   ]
  },
  {
   "cell_type": "code",
   "execution_count": 88,
   "metadata": {},
   "outputs": [
    {
     "data": {
      "text/html": [
       "<div>\n",
       "<style scoped>\n",
       "    .dataframe tbody tr th:only-of-type {\n",
       "        vertical-align: middle;\n",
       "    }\n",
       "\n",
       "    .dataframe tbody tr th {\n",
       "        vertical-align: top;\n",
       "    }\n",
       "\n",
       "    .dataframe thead th {\n",
       "        text-align: right;\n",
       "    }\n",
       "</style>\n",
       "<table border=\"1\" class=\"dataframe\">\n",
       "  <thead>\n",
       "    <tr style=\"text-align: right;\">\n",
       "      <th></th>\n",
       "      <th>id</th>\n",
       "      <th>toxic</th>\n",
       "      <th>severe_toxic</th>\n",
       "      <th>obscene</th>\n",
       "      <th>threat</th>\n",
       "      <th>insult</th>\n",
       "      <th>identity_hate</th>\n",
       "    </tr>\n",
       "  </thead>\n",
       "  <tbody>\n",
       "    <tr>\n",
       "      <th>0</th>\n",
       "      <td>00001cee341fdb12</td>\n",
       "      <td>0.177592</td>\n",
       "      <td>0.018022</td>\n",
       "      <td>0.108540</td>\n",
       "      <td>0.021443</td>\n",
       "      <td>0.086809</td>\n",
       "      <td>0.036835</td>\n",
       "    </tr>\n",
       "    <tr>\n",
       "      <th>1</th>\n",
       "      <td>0000247867823ef7</td>\n",
       "      <td>0.131184</td>\n",
       "      <td>0.008682</td>\n",
       "      <td>0.072391</td>\n",
       "      <td>0.011113</td>\n",
       "      <td>0.053415</td>\n",
       "      <td>0.020531</td>\n",
       "    </tr>\n",
       "    <tr>\n",
       "      <th>2</th>\n",
       "      <td>00013b17ad220c46</td>\n",
       "      <td>0.177592</td>\n",
       "      <td>0.018022</td>\n",
       "      <td>0.108540</td>\n",
       "      <td>0.021443</td>\n",
       "      <td>0.086809</td>\n",
       "      <td>0.036835</td>\n",
       "    </tr>\n",
       "    <tr>\n",
       "      <th>3</th>\n",
       "      <td>00017563c3f7919a</td>\n",
       "      <td>0.173275</td>\n",
       "      <td>0.016990</td>\n",
       "      <td>0.105047</td>\n",
       "      <td>0.020346</td>\n",
       "      <td>0.083488</td>\n",
       "      <td>0.035156</td>\n",
       "    </tr>\n",
       "    <tr>\n",
       "      <th>4</th>\n",
       "      <td>00017695ad8997eb</td>\n",
       "      <td>0.177592</td>\n",
       "      <td>0.018022</td>\n",
       "      <td>0.108540</td>\n",
       "      <td>0.021443</td>\n",
       "      <td>0.086809</td>\n",
       "      <td>0.036835</td>\n",
       "    </tr>\n",
       "    <tr>\n",
       "      <th>5</th>\n",
       "      <td>0001ea8717f6de06</td>\n",
       "      <td>0.122864</td>\n",
       "      <td>0.007998</td>\n",
       "      <td>0.067738</td>\n",
       "      <td>0.010409</td>\n",
       "      <td>0.048911</td>\n",
       "      <td>0.018991</td>\n",
       "    </tr>\n",
       "    <tr>\n",
       "      <th>6</th>\n",
       "      <td>00024115d4cbde0f</td>\n",
       "      <td>0.177592</td>\n",
       "      <td>0.018022</td>\n",
       "      <td>0.108540</td>\n",
       "      <td>0.021443</td>\n",
       "      <td>0.086809</td>\n",
       "      <td>0.036835</td>\n",
       "    </tr>\n",
       "    <tr>\n",
       "      <th>7</th>\n",
       "      <td>000247e83dcc1211</td>\n",
       "      <td>0.156944</td>\n",
       "      <td>0.014638</td>\n",
       "      <td>0.094323</td>\n",
       "      <td>0.018067</td>\n",
       "      <td>0.072798</td>\n",
       "      <td>0.030888</td>\n",
       "    </tr>\n",
       "    <tr>\n",
       "      <th>8</th>\n",
       "      <td>00025358d4737918</td>\n",
       "      <td>0.689917</td>\n",
       "      <td>0.285251</td>\n",
       "      <td>0.572844</td>\n",
       "      <td>0.099842</td>\n",
       "      <td>0.523914</td>\n",
       "      <td>0.178238</td>\n",
       "    </tr>\n",
       "    <tr>\n",
       "      <th>9</th>\n",
       "      <td>00026d1092fe71cc</td>\n",
       "      <td>0.127700</td>\n",
       "      <td>0.008241</td>\n",
       "      <td>0.070161</td>\n",
       "      <td>0.010535</td>\n",
       "      <td>0.051482</td>\n",
       "      <td>0.019643</td>\n",
       "    </tr>\n",
       "  </tbody>\n",
       "</table>\n",
       "</div>"
      ],
      "text/plain": [
       "                 id     toxic  severe_toxic   obscene    threat    insult  \\\n",
       "0  00001cee341fdb12  0.177592  0.018022      0.108540  0.021443  0.086809   \n",
       "1  0000247867823ef7  0.131184  0.008682      0.072391  0.011113  0.053415   \n",
       "2  00013b17ad220c46  0.177592  0.018022      0.108540  0.021443  0.086809   \n",
       "3  00017563c3f7919a  0.173275  0.016990      0.105047  0.020346  0.083488   \n",
       "4  00017695ad8997eb  0.177592  0.018022      0.108540  0.021443  0.086809   \n",
       "5  0001ea8717f6de06  0.122864  0.007998      0.067738  0.010409  0.048911   \n",
       "6  00024115d4cbde0f  0.177592  0.018022      0.108540  0.021443  0.086809   \n",
       "7  000247e83dcc1211  0.156944  0.014638      0.094323  0.018067  0.072798   \n",
       "8  00025358d4737918  0.689917  0.285251      0.572844  0.099842  0.523914   \n",
       "9  00026d1092fe71cc  0.127700  0.008241      0.070161  0.010535  0.051482   \n",
       "\n",
       "   identity_hate  \n",
       "0  0.036835       \n",
       "1  0.020531       \n",
       "2  0.036835       \n",
       "3  0.035156       \n",
       "4  0.036835       \n",
       "5  0.018991       \n",
       "6  0.036835       \n",
       "7  0.030888       \n",
       "8  0.178238       \n",
       "9  0.019643       "
      ]
     },
     "execution_count": 88,
     "metadata": {},
     "output_type": "execute_result"
    }
   ],
   "source": [
    "subm_df.head(10)"
   ]
  },
  {
   "cell_type": "code",
   "execution_count": null,
   "metadata": {},
   "outputs": [],
   "source": []
  }
 ],
 "metadata": {
  "kernelspec": {
   "display_name": "Python 3",
   "language": "python",
   "name": "python3"
  },
  "language_info": {
   "codemirror_mode": {
    "name": "ipython",
    "version": 3
   },
   "file_extension": ".py",
   "mimetype": "text/x-python",
   "name": "python",
   "nbconvert_exporter": "python",
   "pygments_lexer": "ipython3",
   "version": "3.6.4"
  },
  "toc": {
   "colors": {
    "hover_highlight": "#DAA520",
    "navigate_num": "#000000",
    "navigate_text": "#333333",
    "running_highlight": "#FF0000",
    "selected_highlight": "#FFD700",
    "sidebar_border": "#EEEEEE",
    "wrapper_background": "#FFFFFF"
   },
   "moveMenuLeft": true,
   "nav_menu": {
    "height": "123px",
    "width": "251px"
   },
   "navigate_menu": true,
   "number_sections": true,
   "sideBar": true,
   "threshold": 4,
   "toc_cell": false,
   "toc_section_display": "block",
   "toc_window_display": false,
   "widenNotebook": false
  }
 },
 "nbformat": 4,
 "nbformat_minor": 2
}
